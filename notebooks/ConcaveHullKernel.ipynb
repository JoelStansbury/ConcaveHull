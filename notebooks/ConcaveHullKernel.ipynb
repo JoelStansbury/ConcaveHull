{
 "cells": [
  {
   "attachments": {
    "b135a212-d2a6-4afd-939c-bbd5788714e5.png": {
     "image/png": "[encoded data removed]"
    }
   },
   "cell_type": "markdown",
   "id": "de6f8528-87aa-4421-b633-bf1aa4f388f1",
   "metadata": {},
   "source": [
    "## Planky\n",
    "\n",
    "Problem: Draw a bounding polygon around a point cloud<br>\n",
    "![image.png](attachment:b135a212-d2a6-4afd-939c-bbd5788714e5.png)"
   ]
  },
  {
   "cell_type": "code",
   "execution_count": 1,
   "id": "e2720a46-86ed-4c9f-bf65-116cbcdd943c",
   "metadata": {
    "tags": []
   },
   "outputs": [],
   "source": [
    "import numpy as np\n",
    "import matplotlib.pyplot as plt\n",
    "import cv2\n",
    "import PIL"
   ]
  },
  {
   "cell_type": "code",
   "execution_count": 2,
   "id": "1062f953-a24e-469d-b4b9-1da9416eb89a",
   "metadata": {
    "tags": []
   },
   "outputs": [],
   "source": [
    "import time\n",
    "import alphashape\n",
    "from shapely.geometry.polygon import Polygon"
   ]
  },
  {
   "cell_type": "code",
   "execution_count": 3,
   "id": "1edebbce-ce8b-4673-89db-f91fcdc70216",
   "metadata": {
    "tags": []
   },
   "outputs": [],
   "source": [
    "from planky import find_hull\n",
    "from planky.sweep_kernel import SweepKernel\n",
    "from planky.util import next_start_angle\n",
    "from planky.widgets.ipyvideo import Video"
   ]
  },
  {
   "cell_type": "code",
   "execution_count": 4,
   "id": "abb14eec-eeba-409f-b82b-bd818dd8612c",
   "metadata": {
    "tags": []
   },
   "outputs": [],
   "source": [
    "v = Video()"
   ]
  },
  {
   "cell_type": "code",
   "execution_count": 5,
   "id": "af4deff2-0c7f-494a-a401-0df869b57963",
   "metadata": {
    "tags": []
   },
   "outputs": [],
   "source": [
    "def load(fname):\n",
    "    mask = (cv2.imread(fname)[:,:,0]<255).astype(np.uint8)\n",
    "    return list(zip(*np.where(mask==1)))"
   ]
  },
  {
   "cell_type": "code",
   "execution_count": 7,
   "id": "ce7217be-9055-4e30-a353-2f31d6feb0ce",
   "metadata": {
    "tags": []
   },
   "outputs": [],
   "source": [
    "arrow = load(\"../images/arrow.png\")\n",
    "f = load(\"../images/F.png\")\n",
    "o = load(\"../images/o.png\")\n",
    "no_good = load(\"../images/no_good.png\")\n",
    "big_arrow = load(\"../images/big_arrow.png\")"
   ]
  },
  {
   "cell_type": "code",
   "execution_count": 22,
   "id": "28c7f838-5fb3-4a42-8ef0-fff58a8c997d",
   "metadata": {
    "tags": []
   },
   "outputs": [],
   "source": [
    "def find_hull(points, d=10, animate=False, early_stop=None):\n",
    "    points = np.array(points)\n",
    "    xmin, ymin = points.min(axis=0)\n",
    "    xmax, ymax = points.max(axis=0)\n",
    "    \n",
    "    N = len(points)\n",
    "    if early_stop is not None:\n",
    "        N = min(N, early_stop)\n",
    "    \n",
    "    points -= [xmin, ymin]\n",
    "    points += d+1\n",
    "    \n",
    "    grid = np.zeros(\n",
    "        (\n",
    "            xmax-xmin+d*2+2,\n",
    "            ymax-ymin+d*2+2\n",
    "        )\n",
    "    )\n",
    "    \n",
    "    grid[tuple(points.T)] = 1\n",
    "\n",
    "    i = points.argmin(axis=0)[1]\n",
    "    first = tuple(points[i])\n",
    "    y, x = first\n",
    "    dy, dx = 0,1\n",
    "\n",
    "    sk = SweepKernel(d)\n",
    "    kernel = sk.kernel\n",
    "\n",
    "    n = 0\n",
    "    h = 0\n",
    "    \n",
    "    steps = {}\n",
    "    while True:\n",
    "        if animate:\n",
    "            time.sleep(0.1)\n",
    "            _x, _y = grid.shape\n",
    "            gcp = np.zeros((_x, _y, 3))\n",
    "            gcp[:,:,0] += grid/2\n",
    "            gcp[:,:,1] += grid/2\n",
    "            gcp[:,:,2] += grid/2\n",
    "            gcp[y-d:y+d+1,x-d:x+d+1,1] += kernel/(2*kernel.max())\n",
    "    \n",
    "        n += 1\n",
    "        new_angle = next_start_angle(dx,dy)\n",
    "        \n",
    "        sk.rotate_to(new_angle)\n",
    "        i, j = sk.apply(grid[y-d:y+d+1, x-d:x+d+1])\n",
    "        \n",
    "        dy = d-i\n",
    "        dx = j-d\n",
    "        \n",
    "        if ((y,x) in steps) and (steps[(y,x)]==(y-dy, x+dx)):\n",
    "            res = []\n",
    "            gcp = grid.copy()\n",
    "            _last, _next = (y,x), steps[(y,x)]\n",
    "            while _next != (y,x):\n",
    "                if animate:\n",
    "                    gcp[_last] = 10\n",
    "                    v.show_frame(gcp)\n",
    "                res.append(_last)\n",
    "                _last, _next = _next, steps[_next]\n",
    "            res.append(_next)\n",
    "            return res\n",
    "        steps[(y,x)]=(y-dy, x+dx)\n",
    "        x+=dx\n",
    "        y-=dy\n",
    "        \n",
    "        if animate:\n",
    "            gcp[y-1:y+1, x-1:x+1, 0] = 1\n",
    "            v.show_frame(gcp)\n",
    "\n",
    "        if n > N: return []\n"
   ]
  },
  {
   "cell_type": "code",
   "execution_count": 23,
   "id": "93968eb6-df18-41cd-a91a-30fa7dc4b0fd",
   "metadata": {
    "tags": []
   },
   "outputs": [
    {
     "data": {
      "application/vnd.jupyter.widget-view+json": {
       "model_id": "98488ff7c4f1445d85dbebb4a8d45999",
       "version_major": 2,
       "version_minor": 0
      },
      "text/plain": [
       "Video(children=(Image(value=b'\\x89PNG\\r\\n\\x1a\\n\\x00\\x00\\x00\\rIHDR\\x00\\x00\\x00\\xa9\\x00\\x00\\x01\\x03\\x08\\x02\\x00\\…"
      ]
     },
     "execution_count": 23,
     "metadata": {},
     "output_type": "execute_result"
    }
   ],
   "source": [
    "v"
   ]
  },
  {
   "cell_type": "code",
   "execution_count": 24,
   "id": "61ec827b-7689-4e19-973f-fcb6d97d6a21",
   "metadata": {
    "tags": []
   },
   "outputs": [
    {
     "data": {
      "image/svg+xml": [
       "<svg xmlns=\"http://www.w3.org/2000/svg\" xmlns:xlink=\"http://www.w3.org/1999/xlink\" />"
      ],
      "text/plain": [
       "<shapely.geometry.polygon.Polygon at 0x2610ef439a0>"
      ]
     },
     "execution_count": 24,
     "metadata": {},
     "output_type": "execute_result"
    }
   ],
   "source": [
    "poly = find_hull(f, 10, animate=True, early_stop=50)\n",
    "Polygon(poly)"
   ]
  },
  {
   "cell_type": "code",
   "execution_count": 28,
   "id": "c3866331-8cba-45d3-a53a-2c983fb107a4",
   "metadata": {
    "tags": []
   },
   "outputs": [
    {
     "name": "stdout",
     "output_type": "stream",
     "text": [
      "planky done in 0.04787111282348633\n"
     ]
    },
    {
     "data": {
      "image/svg+xml": [
       "<svg xmlns=\"http://www.w3.org/2000/svg\" xmlns:xlink=\"http://www.w3.org/1999/xlink\" width=\"240.83999999999997\" height=\"165.83999999999997\" viewBox=\"-2.92 -2.92 240.83999999999997 165.83999999999997\" preserveAspectRatio=\"xMinYMin meet\"><g transform=\"matrix(1,0,0,-1,0,160.0)\"><path fill-rule=\"evenodd\" fill=\"#66cc99\" stroke=\"#555555\" stroke-width=\"2.0\" opacity=\"0.6\" d=\"M 117.0,6.0 L 114.0,8.0 L 111.0,10.0 L 109.0,11.0 L 106.0,13.0 L 103.0,15.0 L 100.0,17.0 L 97.0,19.0 L 94.0,21.0 L 91.0,23.0 L 88.0,25.0 L 85.0,27.0 L 83.0,28.0 L 80.0,30.0 L 77.0,32.0 L 74.0,34.0 L 71.0,36.0 L 68.0,38.0 L 65.0,40.0 L 62.0,42.0 L 59.0,44.0 L 56.0,46.0 L 54.0,47.0 L 51.0,49.0 L 48.0,51.0 L 45.0,53.0 L 42.0,55.0 L 39.0,57.0 L 36.0,59.0 L 33.0,61.0 L 30.0,63.0 L 28.0,64.0 L 25.0,66.0 L 22.0,68.0 L 19.0,70.0 L 16.0,72.0 L 13.0,74.0 L 10.0,76.0 L 7.0,78.0 L 6.0,79.0 L 6.0,81.0 L 7.0,82.0 L 10.0,84.0 L 13.0,86.0 L 16.0,88.0 L 19.0,90.0 L 22.0,92.0 L 25.0,94.0 L 28.0,96.0 L 31.0,98.0 L 34.0,100.0 L 38.0,102.0 L 39.0,103.0 L 42.0,105.0 L 45.0,107.0 L 48.0,109.0 L 51.0,111.0 L 54.0,113.0 L 57.0,115.0 L 60.0,117.0 L 64.0,119.0 L 65.0,120.0 L 68.0,122.0 L 71.0,124.0 L 74.0,126.0 L 77.0,128.0 L 80.0,130.0 L 83.0,132.0 L 86.0,134.0 L 89.0,136.0 L 93.0,138.0 L 94.0,139.0 L 97.0,141.0 L 100.0,143.0 L 103.0,145.0 L 106.0,147.0 L 109.0,149.0 L 112.0,151.0 L 115.0,153.0 L 117.0,154.0 L 119.0,154.0 L 120.0,153.0 L 120.0,148.0 L 120.0,143.0 L 120.0,138.0 L 120.0,133.0 L 120.0,128.0 L 120.0,123.0 L 120.0,118.0 L 125.0,118.0 L 130.0,118.0 L 135.0,118.0 L 140.0,118.0 L 145.0,118.0 L 150.0,118.0 L 155.0,118.0 L 160.0,118.0 L 165.0,118.0 L 170.0,118.0 L 175.0,118.0 L 180.0,118.0 L 185.0,118.0 L 190.0,118.0 L 195.0,118.0 L 200.0,118.0 L 205.0,118.0 L 210.0,118.0 L 215.0,118.0 L 220.0,118.0 L 225.0,118.0 L 228.0,118.0 L 229.0,117.0 L 229.0,112.0 L 229.0,107.0 L 229.0,102.0 L 229.0,97.0 L 229.0,92.0 L 229.0,87.0 L 229.0,82.0 L 229.0,77.0 L 229.0,72.0 L 229.0,67.0 L 229.0,62.0 L 229.0,57.0 L 229.0,52.0 L 229.0,47.0 L 229.0,43.0 L 228.0,42.0 L 223.0,42.0 L 218.0,42.0 L 213.0,42.0 L 208.0,42.0 L 203.0,42.0 L 198.0,42.0 L 193.0,42.0 L 188.0,42.0 L 183.0,42.0 L 178.0,42.0 L 173.0,42.0 L 168.0,42.0 L 163.0,42.0 L 158.0,42.0 L 153.0,42.0 L 148.0,42.0 L 143.0,42.0 L 138.0,42.0 L 133.0,42.0 L 128.0,42.0 L 123.0,42.0 L 120.0,38.0 L 120.0,33.0 L 120.0,28.0 L 120.0,23.0 L 120.0,18.0 L 120.0,13.0 L 120.0,8.0 L 120.0,7.0 L 117.0,6.0 z\" /></g></svg>"
      ],
      "text/plain": [
       "<shapely.geometry.polygon.Polygon at 0x261074f4fd0>"
      ]
     },
     "execution_count": 28,
     "metadata": {},
     "output_type": "execute_result"
    }
   ],
   "source": [
    "t0 = time.time()\n",
    "poly = Polygon(find_hull(arrow, 5, animate=False))\n",
    "print(f\"planky done in {time.time()-t0}\")\n",
    "poly"
   ]
  },
  {
   "cell_type": "code",
   "execution_count": 30,
   "id": "6cafeec2-9dc7-4228-9ea3-d46f47d1c07c",
   "metadata": {
    "tags": []
   },
   "outputs": [
    {
     "name": "stdout",
     "output_type": "stream",
     "text": [
      "alphashape done in 5.62208890914917\n"
     ]
    },
    {
     "data": {
      "image/svg+xml": [
       "<svg xmlns=\"http://www.w3.org/2000/svg\" xmlns:xlink=\"http://www.w3.org/1999/xlink\" width=\"240.84\" height=\"165.84\" viewBox=\"161.08 212.08 240.84 165.84\" preserveAspectRatio=\"xMinYMin meet\"><g transform=\"matrix(1,0,0,-1,0,590.0)\"><path fill-rule=\"evenodd\" fill=\"#66cc99\" stroke=\"#555555\" stroke-width=\"2.0\" opacity=\"0.6\" d=\"M 282.0,369.0 L 283.0,369.0 L 284.0,368.0 L 284.0,367.0 L 284.0,366.0 L 284.0,365.0 L 284.0,364.0 L 284.0,363.0 L 284.0,362.0 L 284.0,361.0 L 284.0,360.0 L 284.0,359.0 L 284.0,358.0 L 284.0,357.0 L 284.0,356.0 L 284.0,355.0 L 284.0,354.0 L 284.0,353.0 L 284.0,352.0 L 284.0,351.0 L 284.0,350.0 L 284.0,349.0 L 284.0,348.0 L 284.0,347.0 L 284.0,346.0 L 284.0,345.0 L 284.0,344.0 L 284.0,343.0 L 284.0,342.0 L 284.0,341.0 L 284.0,340.0 L 284.0,339.0 L 284.0,338.0 L 284.0,337.0 L 284.0,336.0 L 284.0,335.0 L 286.0,333.0 L 287.0,333.0 L 288.0,333.0 L 289.0,333.0 L 290.0,333.0 L 291.0,333.0 L 292.0,333.0 L 293.0,333.0 L 294.0,333.0 L 295.0,333.0 L 296.0,333.0 L 297.0,333.0 L 298.0,333.0 L 299.0,333.0 L 300.0,333.0 L 301.0,333.0 L 302.0,333.0 L 303.0,333.0 L 304.0,333.0 L 305.0,333.0 L 306.0,333.0 L 307.0,333.0 L 308.0,333.0 L 309.0,333.0 L 310.0,333.0 L 311.0,333.0 L 312.0,333.0 L 313.0,333.0 L 314.0,333.0 L 315.0,333.0 L 316.0,333.0 L 317.0,333.0 L 318.0,333.0 L 319.0,333.0 L 320.0,333.0 L 321.0,333.0 L 322.0,333.0 L 323.0,333.0 L 324.0,333.0 L 325.0,333.0 L 326.0,333.0 L 327.0,333.0 L 328.0,333.0 L 329.0,333.0 L 330.0,333.0 L 331.0,333.0 L 332.0,333.0 L 333.0,333.0 L 334.0,333.0 L 335.0,333.0 L 336.0,333.0 L 337.0,333.0 L 338.0,333.0 L 339.0,333.0 L 340.0,333.0 L 341.0,333.0 L 342.0,333.0 L 343.0,333.0 L 344.0,333.0 L 345.0,333.0 L 346.0,333.0 L 347.0,333.0 L 348.0,333.0 L 349.0,333.0 L 350.0,333.0 L 351.0,333.0 L 352.0,333.0 L 353.0,333.0 L 354.0,333.0 L 355.0,333.0 L 356.0,333.0 L 357.0,333.0 L 358.0,333.0 L 359.0,333.0 L 360.0,333.0 L 361.0,333.0 L 362.0,333.0 L 363.0,333.0 L 364.0,333.0 L 365.0,333.0 L 366.0,333.0 L 367.0,333.0 L 368.0,333.0 L 369.0,333.0 L 370.0,333.0 L 371.0,333.0 L 372.0,333.0 L 373.0,333.0 L 374.0,333.0 L 375.0,333.0 L 376.0,333.0 L 377.0,333.0 L 378.0,333.0 L 379.0,333.0 L 380.0,333.0 L 381.0,333.0 L 382.0,333.0 L 383.0,333.0 L 384.0,333.0 L 385.0,333.0 L 386.0,333.0 L 387.0,333.0 L 388.0,333.0 L 389.0,333.0 L 390.0,333.0 L 391.0,333.0 L 392.0,333.0 L 393.0,332.0 L 393.0,331.0 L 393.0,330.0 L 393.0,329.0 L 393.0,328.0 L 393.0,327.0 L 393.0,326.0 L 393.0,325.0 L 393.0,324.0 L 393.0,323.0 L 393.0,322.0 L 393.0,321.0 L 393.0,320.0 L 393.0,319.0 L 393.0,318.0 L 393.0,317.0 L 393.0,316.0 L 393.0,315.0 L 393.0,314.0 L 393.0,313.0 L 393.0,312.0 L 393.0,311.0 L 393.0,310.0 L 393.0,309.0 L 393.0,308.0 L 393.0,307.0 L 393.0,306.0 L 393.0,305.0 L 393.0,304.0 L 393.0,303.0 L 393.0,302.0 L 393.0,301.0 L 393.0,300.0 L 393.0,299.0 L 393.0,298.0 L 393.0,297.0 L 393.0,296.0 L 393.0,295.0 L 393.0,294.0 L 393.0,293.0 L 393.0,292.0 L 393.0,291.0 L 393.0,290.0 L 393.0,289.0 L 393.0,288.0 L 393.0,287.0 L 393.0,286.0 L 393.0,285.0 L 393.0,284.0 L 393.0,283.0 L 393.0,282.0 L 393.0,281.0 L 393.0,280.0 L 393.0,279.0 L 393.0,278.0 L 393.0,277.0 L 393.0,276.0 L 393.0,275.0 L 393.0,274.0 L 393.0,273.0 L 393.0,272.0 L 393.0,271.0 L 393.0,270.0 L 393.0,269.0 L 393.0,268.0 L 393.0,267.0 L 393.0,266.0 L 393.0,265.0 L 393.0,264.0 L 393.0,263.0 L 393.0,262.0 L 393.0,261.0 L 393.0,260.0 L 393.0,259.0 L 393.0,258.0 L 392.0,257.0 L 391.0,257.0 L 390.0,257.0 L 389.0,257.0 L 388.0,257.0 L 387.0,257.0 L 386.0,257.0 L 385.0,257.0 L 384.0,257.0 L 383.0,257.0 L 382.0,257.0 L 381.0,257.0 L 380.0,257.0 L 379.0,257.0 L 378.0,257.0 L 377.0,257.0 L 376.0,257.0 L 375.0,257.0 L 374.0,257.0 L 373.0,257.0 L 372.0,257.0 L 371.0,257.0 L 370.0,257.0 L 369.0,257.0 L 368.0,257.0 L 367.0,257.0 L 366.0,257.0 L 365.0,257.0 L 364.0,257.0 L 363.0,257.0 L 362.0,257.0 L 361.0,257.0 L 360.0,257.0 L 359.0,257.0 L 358.0,257.0 L 357.0,257.0 L 356.0,257.0 L 355.0,257.0 L 354.0,257.0 L 353.0,257.0 L 352.0,257.0 L 351.0,257.0 L 350.0,257.0 L 349.0,257.0 L 348.0,257.0 L 347.0,257.0 L 346.0,257.0 L 345.0,257.0 L 344.0,257.0 L 343.0,257.0 L 342.0,257.0 L 341.0,257.0 L 340.0,257.0 L 339.0,257.0 L 338.0,257.0 L 337.0,257.0 L 336.0,257.0 L 335.0,257.0 L 334.0,257.0 L 333.0,257.0 L 332.0,257.0 L 331.0,257.0 L 330.0,257.0 L 329.0,257.0 L 328.0,257.0 L 327.0,257.0 L 326.0,257.0 L 325.0,257.0 L 324.0,257.0 L 323.0,257.0 L 322.0,257.0 L 321.0,257.0 L 320.0,257.0 L 319.0,257.0 L 318.0,257.0 L 317.0,257.0 L 316.0,257.0 L 315.0,257.0 L 314.0,257.0 L 313.0,257.0 L 312.0,257.0 L 311.0,257.0 L 310.0,257.0 L 309.0,257.0 L 308.0,257.0 L 307.0,257.0 L 306.0,257.0 L 305.0,257.0 L 304.0,257.0 L 303.0,257.0 L 302.0,257.0 L 301.0,257.0 L 300.0,257.0 L 299.0,257.0 L 298.0,257.0 L 297.0,257.0 L 296.0,257.0 L 295.0,257.0 L 294.0,257.0 L 293.0,257.0 L 292.0,257.0 L 291.0,257.0 L 290.0,257.0 L 289.0,257.0 L 288.0,257.0 L 287.0,257.0 L 286.0,257.0 L 284.0,255.0 L 284.0,254.0 L 284.0,253.0 L 284.0,252.0 L 284.0,251.0 L 284.0,250.0 L 284.0,249.0 L 284.0,248.0 L 284.0,247.0 L 284.0,246.0 L 284.0,245.0 L 284.0,244.0 L 284.0,243.0 L 284.0,242.0 L 284.0,241.0 L 284.0,240.0 L 284.0,239.0 L 284.0,238.0 L 284.0,237.0 L 284.0,236.0 L 284.0,235.0 L 284.0,234.0 L 284.0,233.0 L 284.0,232.0 L 284.0,231.0 L 284.0,230.0 L 284.0,229.0 L 284.0,228.0 L 284.0,227.0 L 284.0,226.0 L 284.0,225.0 L 284.0,224.0 L 284.0,223.0 L 284.0,222.0 L 283.0,221.0 L 282.0,221.0 L 281.0,221.0 L 280.0,222.0 L 278.0,223.0 L 277.0,224.0 L 275.0,225.0 L 273.0,226.0 L 272.0,227.0 L 270.0,228.0 L 269.0,229.0 L 267.0,230.0 L 266.0,231.0 L 264.0,232.0 L 263.0,233.0 L 261.0,234.0 L 260.0,235.0 L 258.0,236.0 L 257.0,237.0 L 255.0,238.0 L 254.0,239.0 L 252.0,240.0 L 251.0,241.0 L 249.0,242.0 L 247.0,243.0 L 246.0,244.0 L 244.0,245.0 L 243.0,246.0 L 241.0,247.0 L 240.0,248.0 L 238.0,249.0 L 237.0,250.0 L 235.0,251.0 L 234.0,252.0 L 232.0,253.0 L 231.0,254.0 L 229.0,255.0 L 228.0,256.0 L 226.0,257.0 L 225.0,258.0 L 223.0,259.0 L 222.0,260.0 L 220.0,261.0 L 218.0,262.0 L 217.0,263.0 L 215.0,264.0 L 214.0,265.0 L 212.0,266.0 L 211.0,267.0 L 209.0,268.0 L 208.0,269.0 L 206.0,270.0 L 205.0,271.0 L 203.0,272.0 L 202.0,273.0 L 200.0,274.0 L 199.0,275.0 L 197.0,276.0 L 196.0,277.0 L 194.0,278.0 L 192.0,279.0 L 191.0,280.0 L 189.0,281.0 L 188.0,282.0 L 186.0,283.0 L 185.0,284.0 L 183.0,285.0 L 182.0,286.0 L 180.0,287.0 L 179.0,288.0 L 177.0,289.0 L 176.0,290.0 L 174.0,291.0 L 173.0,292.0 L 171.0,293.0 L 170.0,294.0 L 170.0,295.0 L 170.0,296.0 L 171.0,297.0 L 173.0,298.0 L 174.0,299.0 L 176.0,300.0 L 177.0,301.0 L 179.0,302.0 L 180.0,303.0 L 182.0,304.0 L 183.0,305.0 L 185.0,306.0 L 186.0,307.0 L 188.0,308.0 L 189.0,309.0 L 191.0,310.0 L 192.0,311.0 L 194.0,312.0 L 195.0,313.0 L 197.0,314.0 L 198.0,315.0 L 200.0,316.0 L 202.0,317.0 L 203.0,318.0 L 205.0,319.0 L 206.0,320.0 L 208.0,321.0 L 209.0,322.0 L 211.0,323.0 L 212.0,324.0 L 214.0,325.0 L 215.0,326.0 L 217.0,327.0 L 218.0,328.0 L 220.0,329.0 L 221.0,330.0 L 223.0,331.0 L 224.0,332.0 L 226.0,333.0 L 228.0,334.0 L 229.0,335.0 L 231.0,336.0 L 232.0,337.0 L 234.0,338.0 L 235.0,339.0 L 237.0,340.0 L 238.0,341.0 L 240.0,342.0 L 241.0,343.0 L 243.0,344.0 L 244.0,345.0 L 246.0,346.0 L 247.0,347.0 L 249.0,348.0 L 250.0,349.0 L 252.0,350.0 L 253.0,351.0 L 255.0,352.0 L 257.0,353.0 L 258.0,354.0 L 260.0,355.0 L 261.0,356.0 L 263.0,357.0 L 264.0,358.0 L 266.0,359.0 L 267.0,360.0 L 269.0,361.0 L 270.0,362.0 L 272.0,363.0 L 273.0,364.0 L 275.0,365.0 L 276.0,366.0 L 278.0,367.0 L 279.0,368.0 L 281.0,369.0 L 282.0,369.0 z\" /></g></svg>"
      ],
      "text/plain": [
       "<shapely.geometry.polygon.Polygon at 0x2610ef440d0>"
      ]
     },
     "execution_count": 30,
     "metadata": {},
     "output_type": "execute_result"
    }
   ],
   "source": [
    "t0 = time.time()\n",
    "a = alphashape.alphashape(arrow, .5)\n",
    "print(f\"alphashape done in {time.time()-t0}\")\n",
    "a"
   ]
  },
  {
   "cell_type": "code",
   "execution_count": null,
   "id": "2c680a15-8f56-474f-a57e-730898ae7126",
   "metadata": {},
   "outputs": [],
   "source": []
  }
 ],
 "metadata": {
  "kernelspec": {
   "display_name": "Python 3 (ipykernel)",
   "language": "python",
   "name": "python3"
  },
  "language_info": {
   "codemirror_mode": {
    "name": "ipython",
    "version": 3
   },
   "file_extension": ".py",
   "mimetype": "text/x-python",
   "name": "python",
   "nbconvert_exporter": "python",
   "pygments_lexer": "ipython3",
   "version": "3.9.15"
  }
 },
 "nbformat": 4,
 "nbformat_minor": 5
}
